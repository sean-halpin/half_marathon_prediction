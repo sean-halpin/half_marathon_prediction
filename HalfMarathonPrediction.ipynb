{
  "nbformat": 4,
  "nbformat_minor": 0,
  "metadata": {
    "colab": {
      "provenance": [],
      "authorship_tag": "ABX9TyNevWzRleEyElmZXgGR1djb",
      "include_colab_link": true
    },
    "kernelspec": {
      "name": "python3",
      "display_name": "Python 3"
    },
    "language_info": {
      "name": "python"
    }
  },
  "cells": [
    {
      "cell_type": "markdown",
      "metadata": {
        "id": "view-in-github",
        "colab_type": "text"
      },
      "source": [
        "<a href=\"https://colab.research.google.com/github/sean-halpin/half_marathon_prediction/blob/main/HalfMarathonPrediction.ipynb\" target=\"_parent\"><img src=\"https://colab.research.google.com/assets/colab-badge.svg\" alt=\"Open In Colab\"/></a>"
      ]
    },
    {
      "cell_type": "markdown",
      "source": [
        "# Half Marathon Prediction\n",
        "\n",
        "[Predictors of half-marathon performance in male recreational athletes](https://www.ncbi.nlm.nih.gov/pmc/articles/PMC10390894/)\n",
        "\n",
        "Authors:\n",
        "Pantelis T. Nikolaidis, and Beat Knechtle"
      ],
      "metadata": {
        "id": "bFASEsV2tN5E"
      }
    },
    {
      "cell_type": "code",
      "source": [
        "BMI = 24.5\n",
        "VO2max = 52\n",
        "weeklyKm = 84"
      ],
      "metadata": {
        "id": "emPUJhmnREFQ"
      },
      "execution_count": 38,
      "outputs": []
    },
    {
      "cell_type": "code",
      "execution_count": 39,
      "metadata": {
        "id": "padsduhOQ--C"
      },
      "outputs": [],
      "source": [
        "predictTimeMinutes = 80.056 + (2.498 * BMI) - (0.594 * VO2max) - (0.191 * weeklyKm)"
      ]
    },
    {
      "cell_type": "code",
      "source": [
        "Hours = predictTimeMinutes / 60\n",
        "Minutes = 60 * (Hours % 1)\n",
        "Seconds = 60 * (Minutes % 1)\n",
        "\n",
        "print(\"Predicted Half Marathon - %d:%02d:%02d\" % (Hours, Minutes, Seconds))"
      ],
      "metadata": {
        "colab": {
          "base_uri": "https://localhost:8080/"
        },
        "id": "wsW8GvZ8RQFb",
        "outputId": "fc90d4fb-3a02-4483-c6d2-db6c9d994955"
      },
      "execution_count": 40,
      "outputs": [
        {
          "output_type": "stream",
          "name": "stdout",
          "text": [
            "Predicted Half Marathon - 1:34:19\n"
          ]
        }
      ]
    },
    {
      "cell_type": "code",
      "source": [],
      "metadata": {
        "id": "e6pZmDkKsyXC"
      },
      "execution_count": null,
      "outputs": []
    }
  ]
}